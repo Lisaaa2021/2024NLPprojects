{
  "cells": [
    {
      "cell_type": "code",
      "execution_count": null,
      "metadata": {
        "colab": {
          "base_uri": "https://localhost:8080/",
          "height": 898
        },
        "id": "qfqBzuPVJ12q",
        "outputId": "92e79cd0-ce12-4698-8527-cd22bb081c11"
      },
      "outputs": [],
      "source": [
        "!pip install --upgrade google-cloud-aiplatform"
      ]
    },
    {
      "cell_type": "code",
      "execution_count": null,
      "metadata": {
        "colab": {
          "base_uri": "https://localhost:8080/",
          "height": 356
        },
        "id": "9MrPGzVaJ3WS",
        "outputId": "af2a6a72-3b57-4b57-d214-3bbaa64ca5eb"
      },
      "outputs": [],
      "source": [
        "from google.colab import auth as google_auth\n",
        "google_auth.authenticate_user()\n",
        "\n",
        "import vertexai\n",
        "from vertexai.generative_models import GenerativeModel\n",
        "from vertexai.preview.tuning import sft\n",
        "\n",
        "vertexai.init(project=\"amplified-alpha-437112-f0\", location=\"europe-west4\")\n",
        "\n",
        "gemini_pro = GenerativeModel(\"gemini-1.0-pro-002\")\n",
        "\n",
        "sft_tuning_job = sft.train(\n",
        "    source_model=gemini_pro,\n",
        "    train_dataset=\"gs://0930_test_first_bucket/teat_google_data/sft_train_data.jsonl\",\n",
        "    validation_dataset=\"gs://0930_test_first_bucket/teat_google_data/stf_validate.jsonl\",\n",
        "    tuned_model_display_name=\"0930_2nd_attempt_with_sample_data\",\n",
        "    epochs=2,\n",
        "    learning_rate_multiplier=1,\n",
        ")"
      ]
    },
    {
      "cell_type": "markdown",
      "metadata": {
        "id": "W9w4RJRMKrz9"
      },
      "source": [
        "# Formatting"
      ]
    },
    {
      "cell_type": "code",
      "execution_count": null,
      "metadata": {
        "id": "aLDnckFzKqwU"
      },
      "outputs": [],
      "source": [
        "# read the csv file\n",
        "import json\n",
        "import pandas as pd\n",
        "\n",
        "df_mqm = pd.read_csv('data/0929_redebug.csv', index_col='Unnamed: 0')\n",
        "\n",
        "# convert it to the gcp accepted jsonl format\n",
        "def output_gcp_jsonl(src, tgt,qs):\n",
        "    output =  {\"contents\": [{\"role\": \"user\", \"parts\": [{\"text\": f\"source: {src} \\n target: {tgt}\"}]}, {\"role\": \"model\", \"parts\": [{\"text\": str(qs)}]}]}\n",
        "    return output\n",
        "\n",
        "df_mqm['gcp_format'] = df_mqm.apply(lambda row: output_gcp_jsonl(row['source'], row['target'], row['quality_score']), axis = 1)\n",
        "my_output_list_for_gcp = list(df_mqm['gcp_format'])\n",
        "\n",
        "output_path = 'data/gcp_output_mqm_test.jsonl'\n",
        "# write the file\n",
        "with open(output_path, 'w',encoding='utf-8') as f:\n",
        "    for item in my_output_list_for_gcp:\n",
        "        f.write(json.dumps(item, ensure_ascii=False) + '\\n')"
      ]
    }
  ],
  "metadata": {
    "colab": {
      "provenance": []
    },
    "kernelspec": {
      "display_name": "Python 3",
      "name": "python3"
    },
    "language_info": {
      "name": "python"
    }
  },
  "nbformat": 4,
  "nbformat_minor": 0
}
