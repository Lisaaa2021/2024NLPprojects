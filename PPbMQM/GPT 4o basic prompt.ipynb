{
 "cells": [
  {
   "cell_type": "code",
   "execution_count": 1,
   "metadata": {},
   "outputs": [
    {
     "name": "stdout",
     "output_type": "stream",
     "text": [
      "/Users/lisa2021/Desktop/mqmtest_final\n"
     ]
    }
   ],
   "source": [
    "cd /Users/lisa2021/Desktop/mqmtest_final/"
   ]
  },
  {
   "cell_type": "code",
   "execution_count": 2,
   "metadata": {},
   "outputs": [
    {
     "name": "stdout",
     "output_type": "stream",
     "text": [
      "Intel MKL WARNING: Support of Intel(R) Streaming SIMD Extensions 4.2 (Intel(R) SSE4.2) enabled only processors has been deprecated. Intel oneAPI Math Kernel Library 2025.0 will require Intel(R) Advanced Vector Extensions (Intel(R) AVX) instructions.\n",
      "Intel MKL WARNING: Support of Intel(R) Streaming SIMD Extensions 4.2 (Intel(R) SSE4.2) enabled only processors has been deprecated. Intel oneAPI Math Kernel Library 2025.0 will require Intel(R) Advanced Vector Extensions (Intel(R) AVX) instructions.\n"
     ]
    }
   ],
   "source": [
    "result_path = 'basic_prompt/result/basic_prompt_gpt4o.csv'\n",
    "\n",
    "from sklearn.metrics import classification_report, confusion_matrix,ConfusionMatrixDisplay\n",
    "from util.evaluation import extract_json, handle_no_error_segment, get_segment_score, extract_json_llama,f1\n",
    "from util.evaluation import extract_output_error_list,get_recall, get_precision,extract_json,get_severity_and_type_from_recall,get_severity_and_type_from_precision\n",
    "from util.analysis import mqm_scoring, gold_list_omission\n",
    "from util.comet_data import calculate_quality_score\n",
    "from nltk.tokenize import word_tokenize\n",
    "from sklearn.metrics import classification_report\n",
    "import numpy as np\n",
    "import ast\n",
    "import pandas as pd\n",
    "import json\n",
    "from openai import OpenAI\n",
    "dev_df = pd.read_csv('data/prompt_dev/prompt_dev.csv', index_col=0)\n",
    "pd.set_option('display.max_colwidth', None)"
   ]
  },
  {
   "cell_type": "code",
   "execution_count": 3,
   "metadata": {},
   "outputs": [],
   "source": [
    "# system_prompt = \"You are a professional Chinese-English translator.\"\n",
    "# instruction_prompt = \"\"\"\n",
    "# Your task is to identify translation errors from the pair of source Chinese sentence and the target English sentence.\n",
    "\n",
    "# Please identify up to 5 errors and assign an error type for each with a severity label from 'major' and 'minor', using the MQM annotation scheme.\n",
    "# Please provide the output only in json format:\n",
    "\n",
    "# [{\"error type\": (value scope: accuracy, style, fluency, terminology, locale convention, other),\n",
    "# \"error span index\": (split the target sentence using NLTK tokenizer and get the marked text start and end index),\n",
    "# \"marked text\":(the identified error in the target sentence),\n",
    "# \"severity\": (major or minor)\n",
    "# \"explanation\":}, {},{}]\"\"\"\n",
    "\n",
    "\n",
    "# def call_gpt_zero_shot(system_prompt,instruction_prompt,cn,en,model = \"gpt-3.5-turbo-0125\", seed = 240425, max_tokens = 512,temperature = 1, top_p = 1,frequency_penalty =0, presence_penalty= 0):\n",
    "#     client = OpenAI()\n",
    "#     response = client.chat.completions.create(\n",
    "#     model= model,\n",
    "#     seed = seed,\n",
    "#     max_tokens=max_tokens,\n",
    "#     temperature = temperature,\n",
    "#     top_p= top_p,\n",
    "#     frequency_penalty = frequency_penalty,\n",
    "#     presence_penalty = presence_penalty,\n",
    "#     messages=[\n",
    "#         {\"role\": \"system\", \"content\": system_prompt},\n",
    "#         {\"role\": \"user\", \"content\": instruction_prompt},\n",
    "#         {\"role\": \"assistant\",\"content\": \"Ok, I am ready. Please provide me with a Chinese source sentence and its English target translation.\"},\n",
    "#         {\"role\": \"user\", \"content\": f\"Source: {cn}; Target: {en}\"}\n",
    "#     ])\n",
    "#     result = response.choices[0].message.content\n",
    "#     fingerprint = response.system_fingerprint\n",
    "\n",
    "#     #print('response.model_dump_json():')\n",
    "#     #print(json.dumps(json.loads(response.model_dump_json()), indent=4))\n",
    "\n",
    "#     return result, fingerprint\n",
    "\n",
    "# def calling(x,y):\n",
    "\n",
    "#     result, fingerprint = call_gpt_zero_shot(system_prompt,instruction_prompt,x,y,model = 'gpt-4o' ,seed = 240425, max_tokens = 1024,temperature = 1, top_p = 1,frequency_penalty =0, presence_penalty= 0)\n",
    "#     return result,fingerprint\n",
    "\n",
    "# gpt_40_output_fingerprint = dev_df.apply(lambda row: calling(row['source'], row['target']), axis = 1, result_type='expand')\n",
    "# result_40 = pd.concat([dev_df, gpt_40_output_fingerprint], axis = 1)\n",
    "# result_40.rename(columns={0:'gpt 4.0 output', 1:'fingerprint'},inplace=True)\n",
    "# result_40.to_csv(result_path)"
   ]
  },
  {
   "cell_type": "markdown",
   "metadata": {},
   "source": [
    "# Analysis"
   ]
  },
  {
   "cell_type": "code",
   "execution_count": 4,
   "metadata": {},
   "outputs": [
    {
     "name": "stdout",
     "output_type": "stream",
     "text": [
      "3_system_error_num\n",
      "5    288\n",
      "3    205\n",
      "2    172\n",
      "4    161\n",
      "1    103\n",
      "0     28\n",
      "Name: count, dtype: int64\n",
      "957\n"
     ]
    }
   ],
   "source": [
    "# column transformation\n",
    "pd.set_option('display.max_colwidth', None)\n",
    "df = pd.read_csv(result_path, index_col='Unnamed: 0')\n",
    "df['parse_gold_error_list'] = df['parse_gold_error_list'].apply(lambda x: ast.literal_eval(x))\n",
    "\n",
    "df['f_json_extract'] = df['gpt 4.0 output'].apply(extract_json)\n",
    "df = df[df['f_json_extract'].notna()]\n",
    "# filter out invalid json\n",
    "\n",
    "df['2_parse_output_error_list'] = df.apply(lambda x: extract_output_error_list(x['f_json_extract'], x['target'], x['source']), axis = 1)\n",
    "df = df[df['2_parse_output_error_list'].notna()]\n",
    "df['3_system_error_num'] = df['2_parse_output_error_list'].apply(lambda x: len(x))\n",
    "print(df['3_system_error_num'].value_counts())\n",
    "df['f_gold_no_error_segment'] = df.apply(lambda x: handle_no_error_segment(x['gold_error_num'], x['3_system_error_num']), axis = 1)\n",
    "\n",
    "\n",
    "\n",
    "df['4_recall'] = df.apply(lambda x: get_recall(x['parse_gold_error_list'], x['2_parse_output_error_list'], x['f_gold_no_error_segment']), axis= 1)\n",
    "df['5_precision'] = df.apply(lambda x: get_precision(x['parse_gold_error_list'], x['2_parse_output_error_list'], x['f_gold_no_error_segment']), axis= 1)\n",
    "\n",
    "\n",
    "display_columnls = ['source', 'target', 'joined omission', 'gpt 4.0 output','gold_error_num', 'fingerprint', 'parse_gold_error_list',\n",
    "        '2_parse_output_error_list', '3_system_error_num', 'gold_mqm_score',\n",
    "        '4_recall', '5_precision','quality_score']\n",
    "df = df[display_columnls]\n",
    "\n",
    "df['segment_recall'] = df['4_recall'].apply(get_segment_score)\n",
    "df['segment_precision'] = df['5_precision'].apply(get_segment_score)\n",
    "\n",
    "df['f1'] = df.apply(lambda x: f1(x['segment_recall'],x['segment_precision']),axis = 1)\n",
    "df['6_gpt_4.0_mqm_score'] = df['2_parse_output_error_list'].apply(mqm_scoring)\n",
    "df['system_mqm_Minus_gold_mqm'] = df.apply(lambda x: x['6_gpt_4.0_mqm_score'] - x['gold_mqm_score'], axis = 1)\n",
    "df['system_quality_score'] = df.apply(lambda x: calculate_quality_score(x['2_parse_output_error_list'],x['target']),axis = 1)\n",
    "print(len(df))"
   ]
  },
  {
   "cell_type": "code",
   "execution_count": null,
   "metadata": {},
   "outputs": [],
   "source": []
  },
  {
   "cell_type": "markdown",
   "metadata": {},
   "source": [
    "# System level"
   ]
  },
  {
   "cell_type": "markdown",
   "metadata": {},
   "source": [
    "## Error sum, error length"
   ]
  },
  {
   "cell_type": "code",
   "execution_count": 5,
   "metadata": {},
   "outputs": [
    {
     "name": "stdout",
     "output_type": "stream",
     "text": [
      "Gold error sum:  1525\n",
      "System error sum:  3146\n",
      "5\n"
     ]
    },
    {
     "data": {
      "image/png": "[encoded data removed]",
      "text/plain": [
       "<Figure size 640x480 with 1 Axes>"
      ]
     },
     "metadata": {},
     "output_type": "display_data"
    }
   ],
   "source": [
    "from util.plotting import hist_plot\n",
    "# system sum\n",
    "import matplotlib.pyplot as plt\n",
    "print('Gold error sum: ', df['gold_error_num'].sum())\n",
    "plt.rcParams.update({'font.size': 12})\n",
    "print('System error sum: ', df['3_system_error_num'].sum())\n",
    "hist_plot(df['gold_error_num'], df['3_system_error_num'] , 'GPT-4o')"
   ]
  },
  {
   "cell_type": "code",
   "execution_count": 6,
   "metadata": {},
   "outputs": [
    {
     "name": "stdout",
     "output_type": "stream",
     "text": [
      "characters in total:  17.80983606557377\n",
      "tokens in total:  5891\n",
      "errors in total:  1525\n",
      "GOLD: token in total / error in total: 3.862950819672131\n",
      "characters in total:  13.523839796567069\n",
      "tokens in total:  9022\n",
      "errors in total:  3146\n",
      "SYSTEM: token in total / error in total: 2.8677685950413223\n"
     ]
    }
   ],
   "source": [
    "tokens_g = []\n",
    "annotation_length_gold = []\n",
    "mqm_n_g = 0\n",
    "for mqms in df['parse_gold_error_list']:\n",
    "    for mqm in mqms:\n",
    "        mqm_n_g += 1\n",
    "        mqm_t = word_tokenize(mqm[2])\n",
    "        annotation_length_gold.append(len(mqm_t))\n",
    "        tokens_g.extend(mqm_t)\n",
    "characters_g = sum([len(token) for token in tokens_g])\n",
    "print('characters in total: ', characters_g / mqm_n_g)\n",
    "print('tokens in total: ',len(tokens_g))\n",
    "print('errors in total: ', mqm_n_g)\n",
    "print('GOLD: token in total / error in total:', len(tokens_g) / mqm_n_g)\n",
    "\n",
    "# calculating character average for each error span and token average\n",
    "# how many tokens per annotation?\n",
    "from nltk.tokenize import word_tokenize\n",
    "tokens_s = []\n",
    "annotation_length_system = [] # for length plotting\n",
    "mqm_n_s = 0\n",
    "for mqms in df['2_parse_output_error_list']:\n",
    "    for mqm in mqms:\n",
    "        mqm_n_s += 1\n",
    "        mqm_t = word_tokenize(mqm[2])\n",
    "        annotation_length_system.append(len(mqm_t))\n",
    "        tokens_s.extend(mqm_t)\n",
    "characters_s = sum([len(token) for token in tokens_s])\n",
    "print('characters in total: ', characters_s / mqm_n_s)\n",
    "print('tokens in total: ',len(tokens_s))\n",
    "print('errors in total: ', mqm_n_s)\n",
    "print('SYSTEM: token in total / error in total:', len(tokens_s) / mqm_n_s)"
   ]
  },
  {
   "cell_type": "markdown",
   "metadata": {},
   "source": [
    "## Severity, Error type"
   ]
  },
  {
   "cell_type": "code",
   "execution_count": 7,
   "metadata": {},
   "outputs": [
    {
     "name": "stdout",
     "output_type": "stream",
     "text": [
      "{'Major': 322, 'Minor': 1203}\n",
      "{'major': 1256, 'minor': 1890}\n",
      "1525 Counter({'Style': 553, 'Accuracy': 548, 'Fluency': 377, 'Terminology': 33, 'Locale Convention': 14})\n",
      "3146 Counter({'accuracy': 1224, 'fluency': 1027, 'style': 467, 'terminology': 324, 'locale convention': 78, 'punctuation': 13, 'termology': 2, 'other': 2, 'consistency': 2, 'location convention': 2, 'redundancy': 1, 'translation': 1, 'translation accuracy': 1, 'clarity': 1, 'term': 1})\n"
     ]
    }
   ],
   "source": [
    "system_severity = {}\n",
    "system_severity['major'] = 0\n",
    "system_severity['minor'] = 0\n",
    "\n",
    "gold_severity = {}\n",
    "gold_severity['Major'] = 0\n",
    "gold_severity['Minor'] = 0\n",
    "\n",
    "for g in df['parse_gold_error_list']:\n",
    "    for gg in g:\n",
    "        if gg[1] == 'Major':\n",
    "            gold_severity['Major'] += 1\n",
    "        if gg[1] == 'Minor':\n",
    "            gold_severity['Minor'] +=1\n",
    "\n",
    "for s in df['2_parse_output_error_list']:\n",
    "    for ss in s:\n",
    "        if ss[1] == 'major':\n",
    "            system_severity['major'] += 1\n",
    "        if ss[1] == 'minor':\n",
    "            system_severity['minor'] +=1\n",
    "\n",
    "\n",
    "from collections import Counter\n",
    "\n",
    "gold_error_type = []\n",
    "system_error_type = []\n",
    "\n",
    "\n",
    "for g in df['parse_gold_error_list']:\n",
    "    for gg in g:\n",
    "        if gg[0].lower() == 'omission':\n",
    "            gold_error_type.append('Accuracy')\n",
    "        else:\n",
    "            gold_error_type.append(gg[0])\n",
    "\n",
    "\n",
    "for s in df['2_parse_output_error_list']:\n",
    "    for ss in s:\n",
    "        system_error_type.append(ss[0])\n",
    "print(gold_severity)\n",
    "print(system_severity)\n",
    "print(len(gold_error_type),Counter(gold_error_type))\n",
    "print(len(system_error_type),Counter(system_error_type))"
   ]
  },
  {
   "cell_type": "markdown",
   "metadata": {},
   "source": [
    "## MQM correlation"
   ]
  },
  {
   "cell_type": "code",
   "execution_count": 8,
   "metadata": {},
   "outputs": [
    {
     "name": "stdout",
     "output_type": "stream",
     "text": [
      "Intel MKL WARNING: Support of Intel(R) Streaming SIMD Extensions 4.2 (Intel(R) SSE4.2) enabled only processors has been deprecated. Intel oneAPI Math Kernel Library 2025.0 will require Intel(R) Advanced Vector Extensions (Intel(R) AVX) instructions.\n",
      "0.4060343689840794\n",
      "0.3941711693817504\n",
      "Intel MKL WARNING: Support of Intel(R) Streaming SIMD Extensions 4.2 (Intel(R) SSE4.2) enabled only processors has been deprecated. Intel oneAPI Math Kernel Library 2025.0 will require Intel(R) Advanced Vector Extensions (Intel(R) AVX) instructions.\n"
     ]
    }
   ],
   "source": [
    "pearson = df['gold_mqm_score'].corr(df['6_gpt_4.0_mqm_score'], method = 'pearson')\n",
    "print(pearson)\n",
    "spearman = df['gold_mqm_score'].corr(df['6_gpt_4.0_mqm_score'], method = 'spearman')\n",
    "print(spearman)"
   ]
  },
  {
   "cell_type": "code",
   "execution_count": 9,
   "metadata": {},
   "outputs": [
    {
     "data": {
      "text/plain": [
       "1.593521421107628"
      ]
     },
     "execution_count": 9,
     "metadata": {},
     "output_type": "execute_result"
    }
   ],
   "source": [
    "3146 / 957\n",
    "1525 / 957"
   ]
  },
  {
   "cell_type": "markdown",
   "metadata": {},
   "source": [
    "# Recall"
   ]
  },
  {
   "cell_type": "code",
   "execution_count": 10,
   "metadata": {},
   "outputs": [
    {
     "name": "stdout",
     "output_type": "stream",
     "text": [
      "0.5670539689326892\n"
     ]
    }
   ],
   "source": [
    "df_recall = df[df['4_recall'].apply(lambda x: isinstance(x, list))]\n",
    "severity_error_type_r = df_recall.apply(lambda x: get_severity_and_type_from_recall(x['parse_gold_error_list'], x['2_parse_output_error_list']), axis = 1, result_type='expand')\n",
    "\n",
    "df_recall = pd.concat([df_recall, severity_error_type_r], axis = 1)\n",
    "df_recall.rename(columns = {0:'error_type', 1:'severity'},inplace= True)\n",
    "\n",
    "gold_error_type_r = []\n",
    "system_error_type_r = []\n",
    "for x in df_recall['error_type']:\n",
    "    for xx in x:\n",
    "        gold_error_type_r.append(xx[0].lower())\n",
    "        system_error_type_r.append(xx[1])\n",
    "\n",
    "gold_severity_r = []\n",
    "system_severity_r = []\n",
    "for x in df_recall['severity']:\n",
    "    for xx in x:\n",
    "        gold_severity_r.append(xx[0].lower())\n",
    "        system_severity_r.append(xx[1])\n",
    "\n",
    "all_recalls = []\n",
    "for recall_list in df_recall['4_recall']:\n",
    "    all_recalls.extend(recall_list)\n",
    "r = sum(all_recalls) / len(all_recalls)\n",
    "print(r)"
   ]
  },
  {
   "cell_type": "code",
   "execution_count": 11,
   "metadata": {},
   "outputs": [
    {
     "name": "stdout",
     "output_type": "stream",
     "text": [
      "                             GPT-4o\n",
      "                   precision    recall  f1-score   support\n",
      "\n",
      "         accuracy       0.45      0.59      0.51       369\n",
      "            style       0.54      0.15      0.24       395\n",
      "          fluency       0.23      0.37      0.29       175\n",
      "      terminology       0.08      0.35      0.13        20\n",
      "locale convention       0.25      0.08      0.12        12\n",
      "\n",
      "        micro avg       0.36      0.36      0.36       971\n",
      "        macro avg       0.31      0.31      0.26       971\n",
      "     weighted avg       0.44      0.36      0.35       971\n",
      "\n",
      "[[219  30  95  23   2]\n",
      " [171  60 114  46   1]\n",
      " [ 75  22  65  12   0]\n",
      " [ 11   0   2   7   0]\n",
      " [  8   0   1   2   1]]\n"
     ]
    },
    {
     "data": {
      "image/png": "[encoded data removed]",
      "text/plain": [
       "<Figure size 800x800 with 2 Axes>"
      ]
     },
     "metadata": {},
     "output_type": "display_data"
    }
   ],
   "source": [
    "import matplotlib.pyplot as plt\n",
    "labels = ['accuracy', 'style', 'fluency', 'terminology', 'locale convention',]\n",
    "print('                             GPT-4o')\n",
    "print(classification_report(gold_error_type_r, system_error_type_r,labels=labels))\n",
    "\n",
    "cm = confusion_matrix(gold_error_type_r, system_error_type_r,labels = labels )\n",
    "print(cm)\n",
    "\n",
    "disp = ConfusionMatrixDisplay.from_predictions(gold_error_type_r,system_error_type_r,labels=labels)\n",
    "#(confusion_matrix=cm, display_labels= labels)\n",
    "\n",
    "\n",
    "fig = disp.figure_\n",
    "fig.set_figwidth(8)\n",
    "fig.set_figheight(8)\n",
    "fig.set_label('test')\n",
    "plt.xticks(rotation=45)\n",
    "\n",
    "fig.suptitle('GPT-4o')\n",
    "plt.rcParams.update({'font.size': 16})"
   ]
  },
  {
   "cell_type": "code",
   "execution_count": 12,
   "metadata": {},
   "outputs": [
    {
     "data": {
      "text/plain": [
       "174"
      ]
     },
     "execution_count": 12,
     "metadata": {},
     "output_type": "execute_result"
    }
   ],
   "source": [
    "75 + 22 + 65 + 12"
   ]
  },
  {
   "cell_type": "code",
   "execution_count": 13,
   "metadata": {},
   "outputs": [
    {
     "name": "stdout",
     "output_type": "stream",
     "text": [
      "[[182  65]\n",
      " [401 323]]\n",
      "              precision    recall  f1-score   support\n",
      "\n",
      "       major       0.31      0.74      0.44       247\n",
      "       minor       0.83      0.45      0.58       724\n",
      "\n",
      "    accuracy                           0.52       971\n",
      "   macro avg       0.57      0.59      0.51       971\n",
      "weighted avg       0.70      0.52      0.54       971\n",
      "\n"
     ]
    },
    {
     "data": {
      "text/plain": [
       "Text(0.5, 0.98, 'GPT-4o')"
      ]
     },
     "execution_count": 13,
     "metadata": {},
     "output_type": "execute_result"
    },
    {
     "data": {
      "image/png": "[encoded data removed]",
      "text/plain": [
       "<Figure size 600x600 with 2 Axes>"
      ]
     },
     "metadata": {},
     "output_type": "display_data"
    }
   ],
   "source": [
    "labels = ['major','minor']\n",
    "cm = confusion_matrix(gold_severity_r, system_severity_r,labels = labels )\n",
    "print(cm)\n",
    "print(classification_report(gold_severity_r, system_severity_r,labels=labels))\n",
    "disp = ConfusionMatrixDisplay.from_predictions(gold_severity_r,system_severity_r,labels=labels)\n",
    "fig = disp.figure_\n",
    "fig.set_figwidth(6)\n",
    "fig.set_figheight(6)\n",
    "fig.set_label('test')\n",
    "plt.xticks(rotation=45)\n",
    "plt.rcParams.update({'font.size': 12})\n",
    "fig.suptitle('GPT-4o')"
   ]
  },
  {
   "cell_type": "code",
   "execution_count": null,
   "metadata": {},
   "outputs": [],
   "source": []
  },
  {
   "cell_type": "markdown",
   "metadata": {},
   "source": [
    "# Precision"
   ]
  },
  {
   "cell_type": "code",
   "execution_count": 14,
   "metadata": {},
   "outputs": [
    {
     "name": "stdout",
     "output_type": "stream",
     "text": [
      "0.4779171614106341\n"
     ]
    }
   ],
   "source": [
    "df_precision = df[df['5_precision'].apply(lambda x: isinstance(x, list))]\n",
    "severity_error_type_p = df_precision.apply(lambda x: get_severity_and_type_from_precision(x['parse_gold_error_list'], x['2_parse_output_error_list']), axis = 1, result_type='expand')\n",
    "\n",
    "df_precision = pd.concat([df_precision, severity_error_type_p], axis = 1)\n",
    "df_precision.rename(columns = {0:'error_type', 1:'severity'},inplace= True)\n",
    "\n",
    "gold_error_type_p = []\n",
    "system_error_type_p = []\n",
    "for x in df_precision['error_type']:\n",
    "    for xx in x:\n",
    "        gold_error_type_p.append(xx[1].lower())\n",
    "        system_error_type_p.append(xx[0])\n",
    "\n",
    "gold_severity_p = []\n",
    "system_severity_p = []\n",
    "for x in df_precision['severity']:\n",
    "    for xx in x:\n",
    "        gold_severity_p.append(xx[1].lower())\n",
    "        system_severity_p.append(xx[0])\n",
    "\n",
    "all_precisions = []\n",
    "for pre_list in df_precision['5_precision']:\n",
    "    all_precisions.extend(pre_list)\n",
    "p = sum(all_precisions) / len(all_precisions)\n",
    "print(p)"
   ]
  },
  {
   "cell_type": "code",
   "execution_count": 15,
   "metadata": {},
   "outputs": [],
   "source": [
    "# labels = ['accuracy', 'fluency','style','terminology','locale convention']\n",
    "\n",
    "# print(classification_report(gold_error_type_p, system_error_type_p,labels=labels))\n",
    "# cm = confusion_matrix(gold_error_type_p, system_error_type_p,labels = labels )\n",
    "# print(cm)\n",
    "# disp = ConfusionMatrixDisplay(confusion_matrix=cm, display_labels= labels)\n",
    "# disp.plot()"
   ]
  },
  {
   "cell_type": "code",
   "execution_count": 16,
   "metadata": {},
   "outputs": [
    {
     "name": "stdout",
     "output_type": "stream",
     "text": [
      "0.4779171614106341\n"
     ]
    }
   ],
   "source": [
    "all_precisions = []\n",
    "for pre_list in df_precision['5_precision']:\n",
    "    all_precisions.extend(pre_list)\n",
    "p = sum(all_precisions) / len(all_precisions)\n",
    "print(p)"
   ]
  },
  {
   "cell_type": "markdown",
   "metadata": {},
   "source": [
    "# Overall analysis"
   ]
  },
  {
   "cell_type": "code",
   "execution_count": 17,
   "metadata": {},
   "outputs": [
    {
     "name": "stdout",
     "output_type": "stream",
     "text": [
      "Total segment 957\n",
      "Gold error sum:  1525\n",
      "System error sum:  3146\n",
      "{'Major': 322, 'Minor': 1203}\n",
      "{'major': 1256, 'minor': 1890}\n",
      "1525 Counter({'Style': 553, 'Accuracy': 548, 'Fluency': 377, 'Terminology': 33, 'Locale Convention': 14})\n",
      "3146 Counter({'accuracy': 1224, 'fluency': 1027, 'style': 467, 'terminology': 324, 'locale convention': 78, 'punctuation': 13, 'termology': 2, 'other': 2, 'consistency': 2, 'location convention': 2, 'redundancy': 1, 'translation': 1, 'translation accuracy': 1, 'clarity': 1, 'term': 1})\n",
      "Total segments: 957\n",
      "\n",
      "Total recall 0.422\n",
      "Total precision 0.351\n",
      "Total F1 0.318\n",
      "\n",
      "Intel MKL WARNING: Support of Intel(R) Streaming SIMD Extensions 4.2 (Intel(R) SSE4.2) enabled only processors has been deprecated. Intel oneAPI Math Kernel Library 2025.0 will require Intel(R) Advanced Vector Extensions (Intel(R) AVX) instructions.\n",
      "Intel MKL WARNING: Support of Intel(R) Streaming SIMD Extensions 4.2 (Intel(R) SSE4.2) enabled only processors has been deprecated. Intel oneAPI Math Kernel Library 2025.0 will require Intel(R) Advanced Vector Extensions (Intel(R) AVX) instructions.\n",
      "Pearson: 0.485\n",
      "Spearman: 0.382\n"
     ]
    }
   ],
   "source": [
    "print(\"Total segment\", len(df))\n",
    "print('Gold error sum: ', df['gold_error_num'].sum())\n",
    "print('System error sum: ', df['3_system_error_num'].sum())\n",
    "print(gold_severity)\n",
    "print(system_severity)\n",
    "print(len(gold_error_type),Counter(gold_error_type))\n",
    "print(len(system_error_type),Counter(system_error_type))\n",
    "\n",
    "\n",
    "print('Total segments:', len(df))\n",
    "print()\n",
    "#recall, precision\n",
    "#print('Total overlap:', len(df_recall))\n",
    "#total_overlap = len(df_recall)\n",
    "# print('r:',round(r,3))\n",
    "# print('p:',round(p,3))\n",
    "\n",
    "#Recall\n",
    "r = df['segment_recall'].mean()\n",
    "p = df['segment_precision'].mean()\n",
    "f1 = df['f1'].mean()\n",
    "print(\"Total recall\", round(r,3))\n",
    "print(\"Total precision\", round(p,3))\n",
    "print(\"Total F1\", round(f1,3))\n",
    "\n",
    "print()\n",
    "\n",
    "pearson_qs = df['quality_score'].corr(df['system_quality_score'], method = 'pearson')\n",
    "spearman_qs = df['quality_score'].corr(df['system_quality_score'], method = 'spearman')\n",
    "print('Pearson:', round(pearson_qs,3))\n",
    "print('Spearman:', round(spearman_qs,3))"
   ]
  },
  {
   "cell_type": "code",
   "execution_count": null,
   "metadata": {},
   "outputs": [],
   "source": []
  },
  {
   "cell_type": "code",
   "execution_count": 18,
   "metadata": {},
   "outputs": [
    {
     "data": {
      "text/plain": [
       "fingerprint\n",
       "fp_319be4768e    945\n",
       "fp_aa87380ac5     12\n",
       "Name: count, dtype: int64"
      ]
     },
     "execution_count": 18,
     "metadata": {},
     "output_type": "execute_result"
    }
   ],
   "source": [
    "df['fingerprint'].value_counts()"
   ]
  },
  {
   "cell_type": "code",
   "execution_count": 19,
   "metadata": {},
   "outputs": [],
   "source": [
    "#df1[df1['2_parse_output_error_list'].isna() == True][['original_index','f_json_extract']]"
   ]
  },
  {
   "cell_type": "code",
   "execution_count": null,
   "metadata": {},
   "outputs": [],
   "source": []
  },
  {
   "cell_type": "markdown",
   "metadata": {},
   "source": [
    "# More analysis"
   ]
  },
  {
   "cell_type": "code",
   "execution_count": 20,
   "metadata": {},
   "outputs": [
    {
     "data": {
      "text/plain": [
       "Counter({'FluencyMinor': 202,\n",
       "         'StyleMinor': 156,\n",
       "         'AccuracyMinor': 74,\n",
       "         'OmissionMajor': 49,\n",
       "         'OmissionMinor': 38,\n",
       "         'AccuracyMajor': 18,\n",
       "         'TerminologyMinor': 7,\n",
       "         'TerminologyMajor': 6,\n",
       "         'StyleMajor': 2,\n",
       "         'Locale ConventionMinor': 2})"
      ]
     },
     "execution_count": 20,
     "metadata": {},
     "output_type": "execute_result"
    }
   ],
   "source": [
    "# what errors does llm miss\n",
    "#df[df['segment_recall'] == 0]\n",
    "\n",
    "# It is possible for GPT 4o to miss errors in gold annotations in three different situations:\n",
    "# \\begin{itemize}\n",
    "#     \\item Segments have gold errors but GPT 4o didn't predict any error.\n",
    "#     \\item Segments have gold errors and GPT 4o predicted errors, but none overlapped.\n",
    "#     \\item Segments have gold errors and some are overlapped with GPT 4o output and some aren't.\n",
    "# \\end{itemize}\n",
    "miss_error_1 = []\n",
    "for ind,r in df[df['4_recall'] == 'no overlap span'].iterrows():\n",
    "    for ee in r['parse_gold_error_list']:\n",
    "        miss = ee[0]  + ee[1] # + ee[2]\n",
    "        miss_error_1.append(miss)\n",
    "\n",
    "miss_error_2 = []\n",
    "for ind,r in df[df['4_recall'] == 'gold not system 0'].iterrows():\n",
    "    for ee in r['parse_gold_error_list']:\n",
    "        miss = ee[0]  + ee[1] #+ ee[2]\n",
    "        miss_error_2.append(miss)\n",
    "\n",
    "miss_error_3 = []\n",
    "for ind, r in df[df['4_recall'].apply(lambda x: isinstance(x, list))].iterrows():\n",
    "    for r_ind, rv in enumerate(r['4_recall']):\n",
    "        if rv == 0:\n",
    "            miss = r['parse_gold_error_list'][r_ind][0]  + r['parse_gold_error_list'][r_ind][1] # + ' '+  r['parse_gold_error_list'][r_ind][2]\n",
    "            miss_error_3.append(miss)\n",
    "\n",
    "Counter(miss_error_1 + miss_error_2 + miss_error_3)\n",
    "#len(miss_error_1 + miss_error_2 + miss_error_3)\n"
   ]
  },
  {
   "cell_type": "code",
   "execution_count": 21,
   "metadata": {},
   "outputs": [
    {
     "data": {
      "text/plain": [
       "Counter({'fluencyminor': 437,\n",
       "         'accuracymajor': 327,\n",
       "         'styleminor': 213,\n",
       "         'terminologyminor': 123,\n",
       "         'accuracyminor': 117,\n",
       "         'locale conventionminor': 42,\n",
       "         'fluencymajor': 31,\n",
       "         'terminologymajor': 21,\n",
       "         'punctuationminor': 6,\n",
       "         'stylemajor': 3,\n",
       "         'otherminor': 2,\n",
       "         'locale conventionmajor': 2,\n",
       "         'consistencyminor': 2,\n",
       "         'punctuationmajor': 1,\n",
       "         'termmajor': 1,\n",
       "         'redundancyminor': 1,\n",
       "         'termologyminor': 1,\n",
       "         'translationmajor': 1,\n",
       "         'translation accuracymajor': 1,\n",
       "         'clarityminor': 1,\n",
       "         'location conventionminor': 1})"
      ]
     },
     "execution_count": 21,
     "metadata": {},
     "output_type": "execute_result"
    }
   ],
   "source": [
    "extra_error_1 = []\n",
    "for ind,r in df[df['5_precision'] == 'no overlap span'].iterrows():\n",
    "    for ee in r['2_parse_output_error_list']:\n",
    "        extra = ee[0] + ee[1] #+'_'+ ee[2]\n",
    "        extra_error_1.append(extra)\n",
    "\n",
    "extra_error_2 = []\n",
    "for ind,r in df[df['5_precision'] == 'gold not system 0'].iterrows():\n",
    "    for ee in r['2_parse_output_error_list']:\n",
    "        extra = ee[0] + ee[1] #+ '_'+ ee[2]\n",
    "        extra_error_2.append(extra)\n",
    "\n",
    "extra_error_3 = []\n",
    "for ind, r in df[df['5_precision'].apply(lambda x: isinstance(x, list))].iterrows():\n",
    "    for r_ind, rv in enumerate(r['5_precision']):\n",
    "        if rv == 0:\n",
    "            extra = r['2_parse_output_error_list'][r_ind][0] + r['2_parse_output_error_list'][r_ind][1] #+ '_'+ r['2_parse_output_error_list'][r_ind][2]\n",
    "            extra_error_3.append(extra)\n",
    "\n",
    "Counter(extra_error_1 + extra_error_2 + extra_error_3)"
   ]
  },
  {
   "cell_type": "code",
   "execution_count": 22,
   "metadata": {},
   "outputs": [
    {
     "name": "stdout",
     "output_type": "stream",
     "text": [
      "388\n"
     ]
    },
    {
     "data": {
      "text/plain": [
       "946"
      ]
     },
     "execution_count": 22,
     "metadata": {},
     "output_type": "execute_result"
    }
   ],
   "source": [
    "print(327 + 31 + 21 + 3 + 2 + 1 + 1 + 1 + 1)\n",
    "len(extra_error_1 + extra_error_2 + extra_error_3)\n",
    "1334 - 388"
   ]
  },
  {
   "cell_type": "code",
   "execution_count": 23,
   "metadata": {},
   "outputs": [
    {
     "name": "stdout",
     "output_type": "stream",
     "text": [
      "source                                                                                                     7，实际上，我非常在意商家做出的承诺。\n",
      "target                                                        In fact, I care very much about the promises made by businesses.\n",
      "parse_gold_error_list    [[Style, Minor, businesses, {'start': 12, 'end': 12}], [Omission, Minor, 7，, {'start': 3, 'end': 4}]]\n",
      "Name: 17, dtype: object\n",
      "{\"role\": \"user\", \"content\": \"Source: 7，实际上，我非常在意商家做出的承诺。; Target: In fact, I care very much about the promises made by businesses.\"},{\"role\": \"assistant\", \"content\":[{\"error type\": \"Style\", \"severity\": \"Minor\", \"marked text\": \"businesses\", \"error span index\": {\"start\": 12, \"end\": 12}}, {\"error type\": \"Omission\", \"severity\": \"Minor\", \"marked text\": \"7，\", \"error span index\": {\"start\": 3, \"end\": 4}}]}\n",
      "\n",
      "source                                                                                                       用了很久，除了低音出不来，总体还不错。\n",
      "target                                              I tried to use it for a long time, but all sounded good except for the bass.\n",
      "parse_gold_error_list    [[Accuracy, Major, tried to, {'start': 1, 'end': 2}], [Omission, Major, 出不来, {'start': 10, 'end': 10}]]\n",
      "Name: 105, dtype: object\n",
      "{\"role\": \"user\", \"content\": \"Source: 用了很久，除了低音出不来，总体还不错。; Target: I tried to use it for a long time, but all sounded good except for the bass.\"},{\"role\": \"assistant\", \"content\":[{\"error type\": \"Accuracy\", \"severity\": \"Major\", \"marked text\": \"tried to\", \"error span index\": {\"start\": 1, \"end\": 2}}, {\"error type\": \"Omission\", \"severity\": \"Major\", \"marked text\": \"出不来\", \"error span index\": {\"start\": 10, \"end\": 10}}]}\n",
      "\n",
      "source                                                                                                                     头带材质很好。\n",
      "target                                                                                              The headband material is good.\n",
      "parse_gold_error_list    [[Style, Minor, headband material, {'start': 1, 'end': 2}], [Omission, Minor, 很, {'start': 5, 'end': 5}]]\n",
      "Name: 202, dtype: object\n",
      "{\"role\": \"user\", \"content\": \"Source: 头带材质很好。; Target: The headband material is good.\"},{\"role\": \"assistant\", \"content\":[{\"error type\": \"Style\", \"severity\": \"Minor\", \"marked text\": \"headband material\", \"error span index\": {\"start\": 1, \"end\": 2}}, {\"error type\": \"Omission\", \"severity\": \"Minor\", \"marked text\": \"很\", \"error span index\": {\"start\": 5, \"end\": 5}}]}\n",
      "\n",
      "source                                                                                                                           【环球时报驻比利时特派记者牛瑞飞】据法新社2月10日报道，在当天最新的一次欧盟峰会上，欧盟委员会主席冯德莱恩表示，欧盟领导人同意就非法移民问题出台更严格的政策，以此更易于驱逐非法移民。\n",
      "target                   At the latest EU summit on the day, European Commission President von der Leyen said EU leaders had agreed to a stricter policy on illegal immigration to make it easier to deport illegal migrants.\n",
      "parse_gold_error_list                                                                                         [[Fluency, Minor, von, {'start': 12, 'end': 12}], [Omission, Major, 【环球时报驻比利时特派记者牛瑞飞】, {'start': 3, 'end': 9}]]\n",
      "Name: 233, dtype: object\n",
      "{\"role\": \"user\", \"content\": \"Source: 【环球时报驻比利时特派记者牛瑞飞】据法新社2月10日报道，在当天最新的一次欧盟峰会上，欧盟委员会主席冯德莱恩表示，欧盟领导人同意就非法移民问题出台更严格的政策，以此更易于驱逐非法移民。; Target: At the latest EU summit on the day, European Commission President von der Leyen said EU leaders had agreed to a stricter policy on illegal immigration to make it easier to deport illegal migrants.\"},{\"role\": \"assistant\", \"content\":[{\"error type\": \"Fluency\", \"severity\": \"Minor\", \"marked text\": \"von\", \"error span index\": {\"start\": 12, \"end\": 12}}, {\"error type\": \"Omission\", \"severity\": \"Major\", \"marked text\": \"【环球时报驻比利时特派记者牛瑞飞】\", \"error span index\": {\"start\": 3, \"end\": 9}}]}\n",
      "\n",
      "source                                                                                                                   商品质量不错，亚马逊缺乏契约精神，送货员很好。\n",
      "target                                                The quality of the goods is good, Amazon lacks contract spirit, the delivery is very good.\n",
      "parse_gold_error_list    [[Fluency, Minor, the delivery is very good, {'start': 13, 'end': 17}], [Omission, Major, 员, {'start': 12, 'end': 12}]]\n",
      "Name: 234, dtype: object\n",
      "{\"role\": \"user\", \"content\": \"Source: 商品质量不错，亚马逊缺乏契约精神，送货员很好。; Target: The quality of the goods is good, Amazon lacks contract spirit, the delivery is very good.\"},{\"role\": \"assistant\", \"content\":[{\"error type\": \"Fluency\", \"severity\": \"Minor\", \"marked text\": \"the delivery is very good\", \"error span index\": {\"start\": 13, \"end\": 17}}, {\"error type\": \"Omission\", \"severity\": \"Major\", \"marked text\": \"员\", \"error span index\": {\"start\": 12, \"end\": 12}}]}\n",
      "\n",
      "source                                                                                               而第一夫人李雪主全程只能走在后头或是坐在一旁，总是距离丈夫和女儿有几步之差。\n",
      "target                    First Lady Li Xuezhong could only walk or sit in the back, always a few steps away from her husband and daughter.\n",
      "parse_gold_error_list    [[Locale Convention, Minor, Li Xuezhong, {'start': 2, 'end': 3}], [Omission, Major, 后头, {'start': 10, 'end': 10}]]\n",
      "Name: 277, dtype: object\n",
      "{\"role\": \"user\", \"content\": \"Source: 而第一夫人李雪主全程只能走在后头或是坐在一旁，总是距离丈夫和女儿有几步之差。; Target: First Lady Li Xuezhong could only walk or sit in the back, always a few steps away from her husband and daughter.\"},{\"role\": \"assistant\", \"content\":[{\"error type\": \"Locale Convention\", \"severity\": \"Minor\", \"marked text\": \"Li Xuezhong\", \"error span index\": {\"start\": 2, \"end\": 3}}, {\"error type\": \"Omission\", \"severity\": \"Major\", \"marked text\": \"后头\", \"error span index\": {\"start\": 10, \"end\": 10}}]}\n",
      "\n",
      "source                                                                                                                                                                 之前在别家网购的滤芯，过滤效果不错，28天结束之后再用多一两天也一样没有水垢。\n",
      "target                   My online purchases of filter elements from different businesses have good filtration properties, I use them for an additional day or two without a scale beyond the initial 28 days.\n",
      "parse_gold_error_list                                                                     [[Style, Minor, filtration properties, {'start': 11, 'end': 12}], [Omission, Major, 没有水垢, {'start': 23, 'end': 24}]]\n",
      "Name: 354, dtype: object\n",
      "{\"role\": \"user\", \"content\": \"Source: 之前在别家网购的滤芯，过滤效果不错，28天结束之后再用多一两天也一样没有水垢。; Target: My online purchases of filter elements from different businesses have good filtration properties, I use them for an additional day or two without a scale beyond the initial 28 days.\"},{\"role\": \"assistant\", \"content\":[{\"error type\": \"Style\", \"severity\": \"Minor\", \"marked text\": \"filtration properties\", \"error span index\": {\"start\": 11, \"end\": 12}}, {\"error type\": \"Omission\", \"severity\": \"Major\", \"marked text\": \"没有水垢\", \"error span index\": {\"start\": 23, \"end\": 24}}]}\n",
      "\n",
      "source                                                                                                                                                                                                                                                                                                                              新华社台北2月11日电(记者赵博、黄扬)出口贸易额“连五黑”，制造业采购经理人指数(PMI)连续7个月紧缩，消费者物价指数(CPI)又见“3字头”……近期，台湾当局陆续发布2023年1月经济数据。\n",
      "target                   Xinhua News Agency, Taipei, February 11th (Reporters Zhao Bo and Huang Yang) - With export trade volume experiencing five consecutive months of decline, the Purchasing Managers' Index (PMI) shrinking for seven consecutive months, and the Consumer Price Index (CPI) once again hitting the \"3-digit\" mark... Recently, the Taiwan authorities have successively released economic data for January 2023.\n",
      "parse_gold_error_list                                                                                                                                                                                                                                                                                                             [[Accuracy, Major, 3-digit, {'start': 55, 'end': 55}], [Omission, Minor, 电, {'start': 9, 'end': 9}]]\n",
      "Name: 395, dtype: object\n",
      "{\"role\": \"user\", \"content\": \"Source: 新华社台北2月11日电(记者赵博、黄扬)出口贸易额“连五黑”，制造业采购经理人指数(PMI)连续7个月紧缩，消费者物价指数(CPI)又见“3字头”……近期，台湾当局陆续发布2023年1月经济数据。; Target: Xinhua News Agency, Taipei, February 11th (Reporters Zhao Bo and Huang Yang) - With export trade volume experiencing five consecutive months of decline, the Purchasing Managers\" Index (PMI) shrinking for seven consecutive months, and the Consumer Price Index (CPI) once again hitting the \"3-digit\" mark... Recently, the Taiwan authorities have successively released economic data for January 2023.\"},{\"role\": \"assistant\", \"content\":[{\"error type\": \"Accuracy\", \"severity\": \"Major\", \"marked text\": \"3-digit\", \"error span index\": {\"start\": 55, \"end\": 55}}, {\"error type\": \"Omission\", \"severity\": \"Minor\", \"marked text\": \"电\", \"error span index\": {\"start\": 9, \"end\": 9}}]}\n",
      "\n",
      "source                                                                                                                                         而且要购买者自已和那个诚信度不怎么样的全峰快递联系，这是自购亚马逊的物品以来最糟糕的一次购物！\n",
      "target                                                 And the buyer has to contact Quanfeng Express, whose integrity is not very good, which is the worst shopping since buying Amazon items.\n",
      "parse_gold_error_list    [[Style, Minor, the buyer has to contact Quanfeng Express, whose integrity is not very good, {'start': 1, 'end': 14}], [Omission, Minor, 自已, {'start': 6, 'end': 6}]]\n",
      "Name: 446, dtype: object\n",
      "{\"role\": \"user\", \"content\": \"Source: 而且要购买者自已和那个诚信度不怎么样的全峰快递联系，这是自购亚马逊的物品以来最糟糕的一次购物！; Target: And the buyer has to contact Quanfeng Express, whose integrity is not very good, which is the worst shopping since buying Amazon items.\"},{\"role\": \"assistant\", \"content\":[{\"error type\": \"Style\", \"severity\": \"Minor\", \"marked text\": \"the buyer has to contact Quanfeng Express, whose integrity is not very good\", \"error span index\": {\"start\": 1, \"end\": 14}}, {\"error type\": \"Omission\", \"severity\": \"Minor\", \"marked text\": \"自已\", \"error span index\": {\"start\": 6, \"end\": 6}}]}\n",
      "\n",
      "source                                                                                                           感觉是SONY入门款机器，就那做工，马来西亚出品的。\n",
      "target                                                               It feels like an entry-level machine from SONY, just made in Malaysia.\n",
      "parse_gold_error_list    [[Style, Minor, just made in Malaysia, {'start': 9, 'end': 12}], [Omission, Major, 那做工, {'start': 11, 'end': 12}]]\n",
      "Name: 651, dtype: object\n",
      "{\"role\": \"user\", \"content\": \"Source: 感觉是SONY入门款机器，就那做工，马来西亚出品的。; Target: It feels like an entry-level machine from SONY, just made in Malaysia.\"},{\"role\": \"assistant\", \"content\":[{\"error type\": \"Style\", \"severity\": \"Minor\", \"marked text\": \"just made in Malaysia\", \"error span index\": {\"start\": 9, \"end\": 12}}, {\"error type\": \"Omission\", \"severity\": \"Major\", \"marked text\": \"那做工\", \"error span index\": {\"start\": 11, \"end\": 12}}]}\n",
      "\n",
      "source                                                                                                                                                                                        全球光刻机巨头荷兰阿斯麦控股公司最近警告，禁止向中国出口半导体制造设备，可能导致半导体价格上涨。\n",
      "target                   ASML, a leading manufacturer of lithography equipment worldwide, recently issued a warning that the Chinese export restriction on semiconductor production equipment would result in increased semiconductor pricing.\n",
      "parse_gold_error_list                                                           [[Accuracy, Major, Chinese export restriction on semiconductor production equipment, {'start': 16, 'end': 22}], [Omission, Minor, 荷兰, {'start': 6, 'end': 6}]]\n",
      "Name: 688, dtype: object\n",
      "{\"role\": \"user\", \"content\": \"Source: 全球光刻机巨头荷兰阿斯麦控股公司最近警告，禁止向中国出口半导体制造设备，可能导致半导体价格上涨。; Target: ASML, a leading manufacturer of lithography equipment worldwide, recently issued a warning that the Chinese export restriction on semiconductor production equipment would result in increased semiconductor pricing.\"},{\"role\": \"assistant\", \"content\":[{\"error type\": \"Accuracy\", \"severity\": \"Major\", \"marked text\": \"Chinese export restriction on semiconductor production equipment\", \"error span index\": {\"start\": 16, \"end\": 22}}, {\"error type\": \"Omission\", \"severity\": \"Minor\", \"marked text\": \"荷兰\", \"error span index\": {\"start\": 6, \"end\": 6}}]}\n",
      "\n",
      "source                                                                                           其中，集成电路年减18.3%，创14年来最大跌势。\n",
      "target                          This was the largest decline in the industry in 14 years, with an annual decline of 18.3%.\n",
      "parse_gold_error_list    [[Omission, Major, 集成电路, {'start': 5, 'end': 5}], [Omission, Minor, 其中，, {'start': 3, 'end': 4}]]\n",
      "Name: 708, dtype: object\n",
      "{\"role\": \"user\", \"content\": \"Source: 其中，集成电路年减18.3%，创14年来最大跌势。; Target: This was the largest decline in the industry in 14 years, with an annual decline of 18.3%.\"},{\"role\": \"assistant\", \"content\":[{\"error type\": \"Omission\", \"severity\": \"Major\", \"marked text\": \"集成电路\", \"error span index\": {\"start\": 5, \"end\": 5}}, {\"error type\": \"Omission\", \"severity\": \"Minor\", \"marked text\": \"其中，\", \"error span index\": {\"start\": 3, \"end\": 4}}]}\n",
      "\n",
      "source                                                                                           其中，集成电路年减18.3%，创14年来最大跌势。\n",
      "target                          This was the largest decline in the industry in 14 years, with an annual decline of 18.3%.\n",
      "parse_gold_error_list    [[Omission, Major, 集成电路, {'start': 5, 'end': 5}], [Omission, Minor, 其中，, {'start': 3, 'end': 4}]]\n",
      "Name: 708, dtype: object\n",
      "{\"role\": \"user\", \"content\": \"Source: 其中，集成电路年减18.3%，创14年来最大跌势。; Target: This was the largest decline in the industry in 14 years, with an annual decline of 18.3%.\"},{\"role\": \"assistant\", \"content\":[{\"error type\": \"Omission\", \"severity\": \"Major\", \"marked text\": \"集成电路\", \"error span index\": {\"start\": 5, \"end\": 5}}, {\"error type\": \"Omission\", \"severity\": \"Minor\", \"marked text\": \"其中，\", \"error span index\": {\"start\": 3, \"end\": 4}}]}\n",
      "\n",
      "source                                                                                                                                                                                                                                                                                                本报讯(记者孙杰)昨晚，北交所发布消息，经中国证监会批准，北京证券交易所融资融券交易业务将于2月13日正式启动，届时已取得北交所融资融券交易权限的证券公司可接受投资者委托，向北交所进行融资融券交易申报。\n",
      "target                   The Beijing Stock Exchange will officially launch its financing and securities trading business on February 13th, after the approval of the China Securities and Exchange Commission. Securities companies that have obtained the BSE's financing and securities trading authorization can accept investors' mandates to declare financing and securities transactions to the BSE.\n",
      "parse_gold_error_list                                                                                                                                                                                                                                                                        [[Omission, Major, 本报讯(记者孙杰)昨晚, {'start': 3, 'end': 8}], [Omission, Major, 北交所发布消息, {'start': 10, 'end': 12}]]\n",
      "Name: 723, dtype: object\n",
      "{\"role\": \"user\", \"content\": \"Source: 本报讯(记者孙杰)昨晚，北交所发布消息，经中国证监会批准，北京证券交易所融资融券交易业务将于2月13日正式启动，届时已取得北交所融资融券交易权限的证券公司可接受投资者委托，向北交所进行融资融券交易申报。; Target: The Beijing Stock Exchange will officially launch its financing and securities trading business on February 13th, after the approval of the China Securities and Exchange Commission. Securities companies that have obtained the BSE\"s financing and securities trading authorization can accept investors\" mandates to declare financing and securities transactions to the BSE.\"},{\"role\": \"assistant\", \"content\":[{\"error type\": \"Omission\", \"severity\": \"Major\", \"marked text\": \"本报讯(记者孙杰)昨晚\", \"error span index\": {\"start\": 3, \"end\": 8}}, {\"error type\": \"Omission\", \"severity\": \"Major\", \"marked text\": \"北交所发布消息\", \"error span index\": {\"start\": 10, \"end\": 12}}]}\n",
      "\n",
      "source                                                                                                                                                                                                                                                                                                本报讯(记者孙杰)昨晚，北交所发布消息，经中国证监会批准，北京证券交易所融资融券交易业务将于2月13日正式启动，届时已取得北交所融资融券交易权限的证券公司可接受投资者委托，向北交所进行融资融券交易申报。\n",
      "target                   The Beijing Stock Exchange will officially launch its financing and securities trading business on February 13th, after the approval of the China Securities and Exchange Commission. Securities companies that have obtained the BSE's financing and securities trading authorization can accept investors' mandates to declare financing and securities transactions to the BSE.\n",
      "parse_gold_error_list                                                                                                                                                                                                                                                                        [[Omission, Major, 本报讯(记者孙杰)昨晚, {'start': 3, 'end': 8}], [Omission, Major, 北交所发布消息, {'start': 10, 'end': 12}]]\n",
      "Name: 723, dtype: object\n",
      "{\"role\": \"user\", \"content\": \"Source: 本报讯(记者孙杰)昨晚，北交所发布消息，经中国证监会批准，北京证券交易所融资融券交易业务将于2月13日正式启动，届时已取得北交所融资融券交易权限的证券公司可接受投资者委托，向北交所进行融资融券交易申报。; Target: The Beijing Stock Exchange will officially launch its financing and securities trading business on February 13th, after the approval of the China Securities and Exchange Commission. Securities companies that have obtained the BSE\"s financing and securities trading authorization can accept investors\" mandates to declare financing and securities transactions to the BSE.\"},{\"role\": \"assistant\", \"content\":[{\"error type\": \"Omission\", \"severity\": \"Major\", \"marked text\": \"本报讯(记者孙杰)昨晚\", \"error span index\": {\"start\": 3, \"end\": 8}}, {\"error type\": \"Omission\", \"severity\": \"Major\", \"marked text\": \"北交所发布消息\", \"error span index\": {\"start\": 10, \"end\": 12}}]}\n",
      "\n",
      "source                                                                                                                                                                                                 报道引述中国天目新闻消息指，陕西省人类精子库印有“有偿捐精，无限光荣”的宣传海报，呼吁年轻人响应捐精，并鼓励网友转发相关讯息，“让爱心传递”。\n",
      "target                   According to the report, the Shaanxi human sperm bank printed \"paid sperm donation, infinitely glorious\" propaganda poster, called on young people to respond to sperm donation, and encouraged netizens to relay relevant messages, \"let love pass.\"\n",
      "parse_gold_error_list                                                                                                                                          [[Fluency, Minor, , \"let love pass, {'start': 39, 'end': 43}], [Omission, Minor, 天目新闻, {'start': 6, 'end': 7}]]\n",
      "Name: 746, dtype: object\n",
      "{\"role\": \"user\", \"content\": \"Source: 报道引述中国天目新闻消息指，陕西省人类精子库印有“有偿捐精，无限光荣”的宣传海报，呼吁年轻人响应捐精，并鼓励网友转发相关讯息，“让爱心传递”。; Target: According to the report, the Shaanxi human sperm bank printed \"paid sperm donation, infinitely glorious\" propaganda poster, called on young people to respond to sperm donation, and encouraged netizens to relay relevant messages, \"let love pass.\"\"},{\"role\": \"assistant\", \"content\":[{\"error type\": \"Fluency\", \"severity\": \"Minor\", \"marked text\": \", \"let love pass\", \"error span index\": {\"start\": 39, \"end\": 43}}, {\"error type\": \"Omission\", \"severity\": \"Minor\", \"marked text\": \"天目新闻\", \"error span index\": {\"start\": 6, \"end\": 7}}]}\n",
      "\n",
      "source                                                                                                                                                                                                                                    本作先后出过3个版本，最大的版本和那本米开朗基罗全集一样，都是接近50厘米长34厘米宽的；中版本大概是36厘米长23厘米宽；而这版是最小，而且配有书盒的两册书版。\n",
      "target                   This work has been published in three versions, the largest version and the Michelangelo complete works, are close to 50 cm long and 34 cm wide. The middle version is about 36 cm long and 23 cm wide. This edition is the smallest, and it comes with a two-volume book edition with a book box.\n",
      "parse_gold_error_list                                                                                                                                                                                                        [[Fluency, Minor, ,, {'start': 8, 'end': 8}], [Omission, Minor, 一样, {'start': 17, 'end': 17}]]\n",
      "Name: 748, dtype: object\n",
      "{\"role\": \"user\", \"content\": \"Source: 本作先后出过3个版本，最大的版本和那本米开朗基罗全集一样，都是接近50厘米长34厘米宽的；中版本大概是36厘米长23厘米宽；而这版是最小，而且配有书盒的两册书版。; Target: This work has been published in three versions, the largest version and the Michelangelo complete works, are close to 50 cm long and 34 cm wide. The middle version is about 36 cm long and 23 cm wide. This edition is the smallest, and it comes with a two-volume book edition with a book box.\"},{\"role\": \"assistant\", \"content\":[{\"error type\": \"Fluency\", \"severity\": \"Minor\", \"marked text\": \",\", \"error span index\": {\"start\": 8, \"end\": 8}}, {\"error type\": \"Omission\", \"severity\": \"Minor\", \"marked text\": \"一样\", \"error span index\": {\"start\": 17, \"end\": 17}}]}\n",
      "\n",
      "source                                                                                           “应对新冠疫情冲击，中国经济展现出了强大韧性。\n",
      "target                           The Chinese economy has shown great resilience in the face of the coronavirus pandemic.\n",
      "parse_gold_error_list    [[Style, Minor, Chinese, {'start': 1, 'end': 1}], [Omission, Minor, “, {'start': 3, 'end': 3}]]\n",
      "Name: 780, dtype: object\n",
      "{\"role\": \"user\", \"content\": \"Source: “应对新冠疫情冲击，中国经济展现出了强大韧性。; Target: The Chinese economy has shown great resilience in the face of the coronavirus pandemic.\"},{\"role\": \"assistant\", \"content\":[{\"error type\": \"Style\", \"severity\": \"Minor\", \"marked text\": \"Chinese\", \"error span index\": {\"start\": 1, \"end\": 1}}, {\"error type\": \"Omission\", \"severity\": \"Minor\", \"marked text\": \"“\", \"error span index\": {\"start\": 3, \"end\": 3}}]}\n",
      "\n",
      "source                                                                                                     1、表包装严重破旧。\n",
      "target                                                                            The packaging is severely worn out.\n",
      "parse_gold_error_list    [[Omission, Major, 1, {'start': 3, 'end': 3}], [Omission, Major, 表, {'start': 5, 'end': 5}]]\n",
      "Name: 794, dtype: object\n",
      "{\"role\": \"user\", \"content\": \"Source: 1、表包装严重破旧。; Target: The packaging is severely worn out.\"},{\"role\": \"assistant\", \"content\":[{\"error type\": \"Omission\", \"severity\": \"Major\", \"marked text\": \"1\", \"error span index\": {\"start\": 3, \"end\": 3}}, {\"error type\": \"Omission\", \"severity\": \"Major\", \"marked text\": \"表\", \"error span index\": {\"start\": 5, \"end\": 5}}]}\n",
      "\n",
      "source                                                                                                     1、表包装严重破旧。\n",
      "target                                                                            The packaging is severely worn out.\n",
      "parse_gold_error_list    [[Omission, Major, 1, {'start': 3, 'end': 3}], [Omission, Major, 表, {'start': 5, 'end': 5}]]\n",
      "Name: 794, dtype: object\n",
      "{\"role\": \"user\", \"content\": \"Source: 1、表包装严重破旧。; Target: The packaging is severely worn out.\"},{\"role\": \"assistant\", \"content\":[{\"error type\": \"Omission\", \"severity\": \"Major\", \"marked text\": \"1\", \"error span index\": {\"start\": 3, \"end\": 3}}, {\"error type\": \"Omission\", \"severity\": \"Major\", \"marked text\": \"表\", \"error span index\": {\"start\": 5, \"end\": 5}}]}\n",
      "\n",
      "source                                                                                                                              是要来逗比的么？！\n",
      "target                                                                                                               Do they make fun of you?\n",
      "parse_gold_error_list    [[Accuracy, Minor, Do they make fun of you, {'start': 0, 'end': 5}], [Omission, Minor, ！, {'start': 11, 'end': 11}]]\n",
      "Name: 820, dtype: object\n",
      "{\"role\": \"user\", \"content\": \"Source: 是要来逗比的么？！; Target: Do they make fun of you?\"},{\"role\": \"assistant\", \"content\":[{\"error type\": \"Accuracy\", \"severity\": \"Minor\", \"marked text\": \"Do they make fun of you\", \"error span index\": {\"start\": 0, \"end\": 5}}, {\"error type\": \"Omission\", \"severity\": \"Minor\", \"marked text\": \"！\", \"error span index\": {\"start\": 11, \"end\": 11}}]}\n",
      "\n",
      "source                                                                                                                                       新华社评论员\n",
      "target                                                                                              Xinhua News Agency, a Beijing-based news agency\n",
      "parse_gold_error_list    [[Accuracy, Minor, , a Beijing-based news agency, {'start': 3, 'end': 7}], [Omission, Minor, 评论员, {'start': 4, 'end': 4}]]\n",
      "Name: 929, dtype: object\n",
      "{\"role\": \"user\", \"content\": \"Source: 新华社评论员; Target: Xinhua News Agency, a Beijing-based news agency\"},{\"role\": \"assistant\", \"content\":[{\"error type\": \"Accuracy\", \"severity\": \"Minor\", \"marked text\": \", a Beijing-based news agency\", \"error span index\": {\"start\": 3, \"end\": 7}}, {\"error type\": \"Omission\", \"severity\": \"Minor\", \"marked text\": \"评论员\", \"error span index\": {\"start\": 4, \"end\": 4}}]}\n",
      "\n",
      "source                                                                                                                                                      美国商务部表示，这5家中国公司及1家研究机构帮助中国军队现代化，尤其是航空航天项目，包括飞艇和飞机。\n",
      "target                   The Commerce Department said the five Chinese companies and one research institute helped modernize China's military, especially aerospace programs, including airships and aircraft.\n",
      "parse_gold_error_list                                                                                        [[Style, Minor, said the, {'start': 3, 'end': 4}], [Omission, Minor, 美国, {'start': 3, 'end': 3}]]\n",
      "Name: 944, dtype: object\n",
      "{\"role\": \"user\", \"content\": \"Source: 美国商务部表示，这5家中国公司及1家研究机构帮助中国军队现代化，尤其是航空航天项目，包括飞艇和飞机。; Target: The Commerce Department said the five Chinese companies and one research institute helped modernize China\"s military, especially aerospace programs, including airships and aircraft.\"},{\"role\": \"assistant\", \"content\":[{\"error type\": \"Style\", \"severity\": \"Minor\", \"marked text\": \"said the\", \"error span index\": {\"start\": 3, \"end\": 4}}, {\"error type\": \"Omission\", \"severity\": \"Minor\", \"marked text\": \"美国\", \"error span index\": {\"start\": 3, \"end\": 3}}]}\n",
      "\n",
      "source                                                                                                                                                                                                                                                                                                           战略与国际问题研究中心的高级研究员Emily Benso说，除了拜登政府的行动外，美国众议院新成立的美国与中国共产党战略竞争特设委员会也可能施压美国采取更严厉的措施来拖慢中国的发展。\n",
      "target                   Emily Benso, a senior fellow at the Center for Strategic and International Studies, said that, in addition to the Biden administration's actions, the newly established US House of Representatives Ad Hoc Committee on Strategic Competition between the United States and the Chinese Communist Party could pressure the US to take tougher measures to slow China's development.\n",
      "parse_gold_error_list                                                                                                                                                                                                                                                                            [[Fluency, Minor, United States, {'start': 42, 'end': 43}], [Omission, Minor, 也, {'start': 35, 'end': 35}]]\n",
      "Name: 986, dtype: object\n",
      "{\"role\": \"user\", \"content\": \"Source: 战略与国际问题研究中心的高级研究员Emily Benso说，除了拜登政府的行动外，美国众议院新成立的美国与中国共产党战略竞争特设委员会也可能施压美国采取更严厉的措施来拖慢中国的发展。; Target: Emily Benso, a senior fellow at the Center for Strategic and International Studies, said that, in addition to the Biden administration\"s actions, the newly established US House of Representatives Ad Hoc Committee on Strategic Competition between the United States and the Chinese Communist Party could pressure the US to take tougher measures to slow China\"s development.\"},{\"role\": \"assistant\", \"content\":[{\"error type\": \"Fluency\", \"severity\": \"Minor\", \"marked text\": \"United States\", \"error span index\": {\"start\": 42, \"end\": 43}}, {\"error type\": \"Omission\", \"severity\": \"Minor\", \"marked text\": \"也\", \"error span index\": {\"start\": 35, \"end\": 35}}]}\n",
      "\n",
      "source                                                                                                              在2014年确定的新型精神活性物质种类总数中，类阿片新型精神活性物质仅占2%,但到2018年，这一数字己上升至9%。\n",
      "target                   In 2014, the total number of new psychoactive substances identified included only 2% that were opioid-like, but by 2018, this figure had risen to 9%.\n",
      "parse_gold_error_list                                                 [[Style, Minor, opioid-like, {'start': 17, 'end': 17}], [Omission, Major, 种类, {'start': 12, 'end': 12}]]\n",
      "Name: 998, dtype: object\n",
      "{\"role\": \"user\", \"content\": \"Source: 在2014年确定的新型精神活性物质种类总数中，类阿片新型精神活性物质仅占2%,但到2018年，这一数字己上升至9%。; Target: In 2014, the total number of new psychoactive substances identified included only 2% that were opioid-like, but by 2018, this figure had risen to 9%.\"},{\"role\": \"assistant\", \"content\":[{\"error type\": \"Style\", \"severity\": \"Minor\", \"marked text\": \"opioid-like\", \"error span index\": {\"start\": 17, \"end\": 17}}, {\"error type\": \"Omission\", \"severity\": \"Major\", \"marked text\": \"种类\", \"error span index\": {\"start\": 12, \"end\": 12}}]}\n",
      "\n"
     ]
    }
   ],
   "source": [
    "def generate_few_shot(source, target, mqmlist):\n",
    "   # pair =f'''{\"role\": \"user\",\"content\": \"Source:{source}; Target:{target}\"}'''\n",
    "    pair = f'''{{\"role\": \"user\", \"content\": \"Source: {source}; Target: {target}\"}},'''\n",
    "    mqm = []\n",
    "    for e in mqmlist:\n",
    "        e_dict = {}\n",
    "        e_dict['error type'] = e[0]\n",
    "        e_dict['severity'] = e[1]\n",
    "        e_dict['marked text'] = e[2]\n",
    "        e_dict['error span index'] = e[3]\n",
    "        mqm.append(e_dict)\n",
    "\n",
    "\n",
    "    example_json = pair + '{\"role\": \"assistant\", \"content\":' + str(mqm) + '}'\n",
    "    example_json = example_json.replace(\"'\",'\"')\n",
    "    return example_json\n",
    "\n",
    "\n",
    "for ind, r in df.head(1000).iterrows():\n",
    "    if len(r['parse_gold_error_list']) == 2:\n",
    "        for e in r['parse_gold_error_list']:\n",
    "            if e[0] == 'Omission':# and e[1] == 'Major':\n",
    "                print(r[['source','target','parse_gold_error_list']])\n",
    "                print(generate_few_shot(r['source'],r['target'],r['parse_gold_error_list']))\n",
    "                print()"
   ]
  },
  {
   "cell_type": "code",
   "execution_count": 24,
   "metadata": {},
   "outputs": [
    {
     "data": {
      "text/plain": [
       "Index(['source', 'target', 'joined omission', 'gpt 4.0 output',\n",
       "       'gold_error_num', 'fingerprint', 'parse_gold_error_list',\n",
       "       '2_parse_output_error_list', '3_system_error_num', 'gold_mqm_score',\n",
       "       '4_recall', '5_precision', 'quality_score', 'segment_recall',\n",
       "       'segment_precision', 'f1', '6_gpt_4.0_mqm_score',\n",
       "       'system_mqm_Minus_gold_mqm', 'system_quality_score'],\n",
       "      dtype='object')"
      ]
     },
     "execution_count": 24,
     "metadata": {},
     "output_type": "execute_result"
    }
   ],
   "source": [
    "df.columns"
   ]
  },
  {
   "cell_type": "markdown",
   "metadata": {},
   "source": [
    "# Error analysis"
   ]
  },
  {
   "cell_type": "code",
   "execution_count": 25,
   "metadata": {},
   "outputs": [
    {
     "name": "stdout",
     "output_type": "stream",
     "text": [
      "Segment ind: 50\n",
      "source                                  8 部分字符和代码的说明\n",
      "target    8 Description of some characters and codes\n",
      "Name: 50, dtype: object\n",
      "Error 0\n",
      "['accuracy', 'major', 'Description of', {'start': 1, 'end': 2}, \"The target sentence should specify 'parts' to accurately represent '部分' in the source sentence.\"]\n",
      "Error 1\n",
      "['accuracy', 'major', 'some', {'start': 3, 'end': 3}, \"'部分' should be translated as 'parts' rather than 'some' to maintain accuracy.\"]\n",
      "Error 2\n",
      "['fluency', 'major', '8', {'start': 0, 'end': 0}, \"The sentence could be more fluent by placing '8' at the end of the translation, after 'parts'.\"]\n",
      "system_mqm_Minus_gold_mqm: 15\n",
      "\n",
      "Segment ind: 32\n",
      "source                                                                                                                                                                                                                                                                                                                                                                      新华社北京2月10日电中共中央总书记、国家主席、中央军委主席习近平2月9日给第19批援助中非共和国的中国医疗队队员回信，向他们以及广大援外医疗队员致以问候并提出殷切期望。\n",
      "target    Xinhua News Agency, Beijing, February 10th, Xi Jinping, General Secretary of the Central Committee of the Communist Party of China, President of the State, and Chairman of the Central Military Commission, wrote back to the 19th batch of Chinese medical team members assisting the Central African Republic on February 9th, extending greetings to them and the majority of foreign medical team members and putting forward ardent expectations.\n",
      "Name: 32, dtype: object\n",
      "Error 0\n",
      "['fluency', 'minor', ', February 10th,', {'start': 5, 'end': 8}, \"The date should be positioned at the end of the introductory phrase for better readability and natural flow. Consider rephrasing to 'On February 10th, Xinhua News Agency in Beijing reported that...'.\"]\n",
      "Error 1\n",
      "['terminology', 'major', 'President of the State', {'start': 25, 'end': 28}, \"The correct official title should be 'President of the People's Republic of China'. The current translation is imprecise.\"]\n",
      "Error 2\n",
      "['style', 'minor', 'the 19th batch', {'start': 41, 'end': 43}, \"Using 'the 19th batch of' sounds a bit informal. Consider using 'the 19th contingent of' for a more formal tone.\"]\n",
      "Error 3\n",
      "['accuracy', 'major', 'foreign medical team members', {'start': 66, 'end': 69}, \"The original text refers to '援外医疗队员' which means 'foreign aid medical team members', specifically Chinese medical team members sent abroad. This distinction needs to be accurately conveyed.\"]\n",
      "Error 4\n",
      "['fluency', 'minor', 'putting forward ardent expectations', {'start': 71, 'end': 74}, \"'Putting forward ardent expectations' is awkward. Consider rephrasing to 'expressing high hopes' for better readability.\"]\n",
      "system_mqm_Minus_gold_mqm: 13\n",
      "\n",
      "Segment ind: 9\n",
      "source                                                                吸毒大麻是最常用的物质，类阿片危害最大\n",
      "target    Marijuana is the most commonly used substance, and opioids are the most harmful\n",
      "Name: 9, dtype: object\n",
      "Error 0\n",
      "['accuracy', 'major', 'Marijuana', {'start': 0, 'end': 0}, \"The term '吸毒大麻' refers to 'drug use of marijuana,' not just 'Marijuana'.\"]\n",
      "Error 1\n",
      "['accuracy', 'major', 'substance', {'start': 6, 'end': 6}, \"The term '物质' refers to 'substances' in plural, but it is translated as singular 'substance'.\"]\n",
      "Error 2\n",
      "['fluency', 'minor', 'opioids', {'start': 9, 'end': 9}, \"The term '类阿片' is more accurately translated as 'opioid-type substances' or 'opioid-like substances' for clarity.\"]\n",
      "system_mqm_Minus_gold_mqm: 11\n",
      "\n",
      "Segment ind: 36\n",
      "source                                                                                                                                                                                         结合同样大超预期的服务业PMI、岗位空缺和劳动力缺口数据的回升和消费信贷数据的强势，我们判断经过极端天气和节假日后美国服务业迎来了快速修复。\n",
      "target    Combined with the similarly better-than-expected service PMI, the rebound in job openings and labor gap data, and the strength of consumer credit data, we judge that the US service sector has experienced a quick fix after extreme weather and holidays.\n",
      "Name: 36, dtype: object\n",
      "Error 0\n",
      "['accuracy', 'major', 'Combined with the', {'start': 0, 'end': 2}, \"The sentence begins abruptly and does not properly introduce the context, which can lead to confusion. A more accurate translation of '结合' should be 'Combined with the similarly better-than-expected service PMI' instead of just 'Combined with the'.\"]\n",
      "Error 1\n",
      "['accuracy', 'minor', 'PMI', {'start': 6, 'end': 6}, \"The term 'PMI' should ideally be expanded to 'Purchasing Managers' Index' for clearer understanding, especially for audiences who may not be familiar with the abbreviation.\"]\n",
      "Error 2\n",
      "['fluency', 'minor', 'job openings and labor gap data', {'start': 11, 'end': 16}, \"The phrase 'labor gap data' is awkward and unclear. A better phrase would be 'job vacancies and labor market gap data' for improved readability and clarity.\"]\n",
      "Error 3\n",
      "['style', 'minor', 'has experienced a quick fix', {'start': 33, 'end': 37}, \"The term 'quick fix' is not appropriate in this context. A better phrase would be 'has seen a rapid recovery' to convey the intended meaning more accurately and suitably for a formal context.\"]\n",
      "Error 4\n",
      "['locale convention', 'minor', 'and', {'start': 41, 'end': 41}, \"The phrase 'after extreme weather and holidays' should be changed to 'after facing extreme weather conditions and holidays' to adhere to more common English phrasing conventions.\"]\n",
      "system_mqm_Minus_gold_mqm: 9\n",
      "\n",
      "Segment ind: 96\n",
      "source                                                                                                                                                                                                                                                   五角大楼说，第二个被击落的物体于周四晚上首次进入美国领空，在阿拉斯加东北部上空移动时被美国军方跟踪，飞行高度为1.2万米（4万英尺），其大小与一辆小型汽车差不多，与先前被击落的那个中国间谍气球相比要小很多。\n",
      "target    The Pentagon said the second object that was shot down first entered US airspace on Thursday night and was tracked by the US military as it moved over northeastern Alaska. It flew at an altitude of 12,000 meters (40,000 feet). It was about the size of a small car, much smaller than the Chinese spy balloon that had been shot down previously.\n",
      "Name: 96, dtype: object\n",
      "Error 0\n",
      "['accuracy', 'major', 'first', {'start': 10, 'end': 10}, \"The term '首次' in the source sentence means 'for the first time'. It should modify the entire clause about entering US airspace, but in the target sentence, it incorrectly implies that it was the first object.\"]\n",
      "Error 1\n",
      "['accuracy', 'minor', 'Thursday', {'start': 15, 'end': 15}, \"The source sentence specifies '周四晚上', meaning 'Thursday night'. Omitting 'night' may lead to a misunderstanding. So it should be 'Thursday night'.\"]\n",
      "Error 2\n",
      "['accuracy', 'minor', 'northeastern Alaska', {'start': 28, 'end': 29}, \"The Chinese source specifies '阿拉斯加东北部上空', meaning 'in the airspace over northeastern Alaska'. The word 'airspace' is missing, which changes the meaning slightly.\"]\n",
      "Error 3\n",
      "['fluency', 'minor', 'It', {'start': 44, 'end': 44}, \"Starting successive sentences with 'It' is repetitive and affects the natural flow of the text.\"]\n",
      "Error 4\n",
      "['fluency', 'minor', 'It', {'start': 44, 'end': 44}, \"Using 'It' repeatedly at the start of sentences decreases readability. A different structure would be more fluid, such as merging sentences.\"]\n",
      "system_mqm_Minus_gold_mqm: 9\n",
      "\n",
      "Segment ind: 66\n",
      "source                                                                                                      产品特价的时候购买，价格不低，看评论也是很不错的产品。\n",
      "target    I bought it when the product was on sale, the price is not low, and it is also a very good product after reading the reviews.\n",
      "Name: 66, dtype: object\n",
      "Error 0\n",
      "['accuracy', 'major', 'not low', {'start': 13, 'end': 14}, \"The phrase '价格不低' should be accurately translated to 'the price was not high' (indicating a lower price due to the sale), but 'not low' suggests a completely opposite meaning.\"]\n",
      "Error 1\n",
      "['fluency', 'minor', 'after reading the reviews', {'start': 24, 'end': 27}, \"The phrase 'after reading the reviews' is awkwardly placed and can be better situated. The Chinese sentence implies that the product was known to be good from reading reviews, not that the purchase was made after reading reviews.\"]\n",
      "Error 2\n",
      "['style', 'minor', 'on sale,', {'start': 7, 'end': 9}, \"Clarification of the sale context is needed to match the source sentence style. It can be better phrased for clarity as 'bought at a special price'.\"]\n",
      "Error 3\n",
      "['fluency', 'minor', 'I bought it when the product was on sale', {'start': 0, 'end': 8}, \"This segment can be made more concise by rephrasing to 'I bought it at a special price'.\"]\n",
      "system_mqm_Minus_gold_mqm: 8\n",
      "\n",
      "Segment ind: 3\n",
      "source                                  明明订单上有联系电话！\n",
      "target    There is a telephone number on the order!\n",
      "Name: 3, dtype: object\n",
      "Error 0\n",
      "['accuracy', 'major', 'There', {'start': 0, 'end': 0}, \"The word '明明' which means 'clearly' or 'obviously' is missing, which alters the meaning of the sentence.\"]\n",
      "Error 1\n",
      "['accuracy', 'minor', '!', {'start': 8, 'end': 8}, 'The exclamation mark here could imply surprise or emphasis, which may not be present in the original sentence.']\n",
      "Error 2\n",
      "['style', 'minor', '!', {'start': 8, 'end': 8}, 'Using an exclamation mark may not fit the intended tone and could be replaced with a period to better match the original sentence.']\n",
      "Error 3\n",
      "['fluency', 'minor', 'the order', {'start': 6, 'end': 7}, \"Using articles like 'the' could improve fluency, although 'order' alone is understandable.\"]\n",
      "system_mqm_Minus_gold_mqm: 8\n",
      "\n",
      "Segment ind: 59\n",
      "source                                                2，结实、用料足、焊点牢固、表面处理得当、颜色很好。\n",
      "target    2, Sturdy, enough material, solid welds, good finish, very good color.\n",
      "Name: 59, dtype: object\n",
      "Error 0\n",
      "['terminology', 'major', 'enough', {'start': 4, 'end': 4}, \"‘用料足’ should be translated as 'adequate materials' instead of 'enough material'.\"]\n",
      "Error 1\n",
      "['fluency', 'minor', 'material', {'start': 5, 'end': 5}, \"The word 'material' should be plural ('materials') to match the context.\"]\n",
      "Error 2\n",
      "['accuracy', 'minor', 'solid', {'start': 7, 'end': 7}, \"‘牢固’ is better translated as 'secure' or 'firm' rather than 'solid'.\"]\n",
      "system_mqm_Minus_gold_mqm: 7\n",
      "\n",
      "Segment ind: 73\n",
      "source                                                                                                    商品质量不错，亚马逊缺乏契约精神，送货员很好。\n",
      "target    The products are of decent quality, Amazon doesn't uphold its end of the bargain, and the delivery person is excellent.\n",
      "Name: 73, dtype: object\n",
      "Error 0\n",
      "['accuracy', 'major', \"Amazon doesn't uphold its end of the bargain\", {'start': 7, 'end': 15}, \"The original Chinese sentence '亚马逊缺乏契约精神' means 'Amazon lacks a sense of contract spirit' which implies a broader critique of reliability or trustworthiness rather than just not keeping promises.\"]\n",
      "Error 1\n",
      "['fluency', 'minor', 'is excellent', {'start': 21, 'end': 22}, \"The phrase 'the delivery person is excellent' sounds a bit too informal given the context. 'The delivery person was very good' would flow better and match the tone of the rest of the sentence.\"]\n",
      "Error 2\n",
      "['punctuation', 'minor', ',', {'start': 16, 'end': 16}, \"The comma before 'and the delivery person is excellent' could be replaced with a semicolon for better readability and to clearly separate the independent clauses.\"]\n",
      "system_mqm_Minus_gold_mqm: 7\n",
      "\n",
      "Segment ind: 77\n",
      "source                                                                                司人改通话时请注意调整耳机露出麦克风\n",
      "target    Please pay attention to adjusting the headset to expose the microphone when changing the call.\n",
      "Name: 77, dtype: object\n",
      "Error 0\n",
      "['accuracy', 'major', 'to expose the microphone', {'start': 7, 'end': 10}, \"The translation misinterprets '露出麦克风' which means 'make sure the microphone is properly positioned' rather than 'expose the microphone'.\"]\n",
      "Error 1\n",
      "['fluency', 'minor', 'the call', {'start': 13, 'end': 14}, \"'changing the call' is awkward and unclear in English. A possible improvement could be 'during calls' or 'when on calls'.\"]\n",
      "Error 2\n",
      "['style', 'minor', 'pay attention', {'start': 1, 'end': 2}, \"The phrase 'pay attention' is informal. A more suitable phrase could be 'Please ensure'.\"]\n",
      "system_mqm_Minus_gold_mqm: 7\n",
      "\n",
      "Segment ind: 87\n",
      "source                           扑朔迷离，猜测纷纷\n",
      "target    Confusion and speculation abound\n",
      "Name: 87, dtype: object\n",
      "Error 0\n",
      "['accuracy', 'major', 'Confusion', {'start': 0, 'end': 0}, \"The phrase '扑朔迷离' conveys a sense of things being complex and difficult to understand, which is not fully captured by 'Confusion'. A more accurate translation might be 'intricate and confusing'.\"]\n",
      "Error 1\n",
      "['accuracy', 'minor', 'speculation', {'start': 2, 'end': 2}, \"The phrase '猜测纷纷' implies widespread guessing or conjecture, which 'speculation' captures, but the word '纷纷' implies a high degree of activity that could be better emphasized.\"]\n",
      "system_mqm_Minus_gold_mqm: 6\n",
      "\n",
      "Segment ind: 58\n",
      "source                           Redmi AirDots 2 真无线蓝牙耳机\n",
      "target    RedmiAirDots2 True Wireless Bluetooth Headset.\n",
      "Name: 58, dtype: object\n",
      "Error 0\n",
      "['style', 'minor', 'RedmiAirDots2', {'start': 0, 'end': 0}, \"The product name should have spaces between 'Redmi', 'Air', 'Dots', and '2', i.e., 'Redmi AirDots 2'.\"]\n",
      "Error 1\n",
      "['terminology', 'major', 'Headset', {'start': 4, 'end': 4}, \"The term 'Headset' is inaccurate. The correct term should be 'Earbuds' as per the Chinese source '耳机'. 'Headset' implies a different kind of device.\"]\n",
      "system_mqm_Minus_gold_mqm: 6\n",
      "\n",
      "Segment ind: 103\n",
      "source                                                                                 3、对比米开朗基罗的手稿，达芬奇的手稿内容就丰富的多。\n",
      "target    3. Compared with Michelangelo's manuscripts, Leonardo da Vinci's manuscripts are much richer in content.\n",
      "Name: 103, dtype: object\n",
      "Error 0\n",
      "['fluency', 'major', 'content.', {'start': 17, 'end': 18}, \"The placement of 'in content' at the end of the sentence sounds awkward. It affects the fluency of the translation.\"]\n",
      "system_mqm_Minus_gold_mqm: 5\n",
      "\n",
      "Segment ind: 6\n",
      "source                      电池在用。\n",
      "target    The battery is working.\n",
      "Name: 6, dtype: object\n",
      "Error 0\n",
      "['accuracy', 'major', 'working', {'start': 3, 'end': 3}, \"The source phrase '在用' means 'in use', not 'working'. The correct translation should be 'in use'.\"]\n",
      "system_mqm_Minus_gold_mqm: 5\n",
      "\n",
      "Segment ind: 102\n",
      "source                                         许多合作文件在此次访问期间得到了签署。\n",
      "target    Many cooperation documents were signed during the visit.\n",
      "Name: 102, dtype: object\n",
      "Error 0\n",
      "['accuracy', 'major', 'the visit', {'start': 6, 'end': 7}, \"The phrase 'the visit' is too vague. The Chinese source specifies '此次访问' which means 'this visit' or 'this specific visit'. Including 'this' clarifies that it refers to the specific visit being discussed.\"]\n",
      "system_mqm_Minus_gold_mqm: 5\n",
      "\n",
      "Segment ind: 13\n",
      "source                                                                                 越南与新加坡签署《绿色和数字经济伙伴关系谅解备忘录》。\n",
      "target    Vietnam and Singapore signed the \"Memorandum of Understanding on Green and Digital Economy Partnership\".\n",
      "Name: 13, dtype: object\n",
      "Error 0\n",
      "['terminology', 'minor', 'Memorandum of Understanding', {'start': 6, 'end': 8}, 'The source sentence uses 《》 which typically indicates the title of an official document. The use of quotation marks (\" \") in English is somewhat acceptable but not the best fit for official documents. Using italics or no formatting is preferable here.']\n",
      "Error 1\n",
      "['locale convention', 'minor', 'Partnership', {'start': 14, 'end': 14}, \"In English, the term 'partnership' is often preceded by an article such as 'a' or 'the'. This might be needed for better fluency.\"]\n",
      "Error 2\n",
      "['accuracy', 'minor', 'Memorandum of Understanding on Green and Digital Economy Partnership', {'start': 6, 'end': 14}, \"The source text mentions both '绿色' and '数字经济'. A more accurate translation would be 'Green Economy and Digital Economy Partnership'.\"]\n",
      "system_mqm_Minus_gold_mqm: 3\n",
      "\n",
      "Segment ind: 100\n",
      "source                                                                                                                  文莱大学是文莱最大的高等高等教育和科学研究中心，在本地区大学排行榜上位居第三。\n",
      "target    The University of Brunei is the largest higher education and scientific research center in Brunei, ranking third in the regional university rankings.\n",
      "Name: 100, dtype: object\n",
      "Error 0\n",
      "['terminology', 'minor', 'University of Brunei', {'start': 1, 'end': 3}, \"The more commonly accepted term is 'Universiti Brunei Darussalam' instead of 'University of Brunei'.\"]\n",
      "Error 1\n",
      "['fluency', 'minor', 'higher education and scientific research center', {'start': 7, 'end': 12}, \"It's more fluent to say 'the largest center for higher education and scientific research'.\"]\n",
      "Error 2\n",
      "['fluency', 'minor', 'third in the regional university rankings', {'start': 17, 'end': 22}, \"It's more natural in English to say 'ranked third in the regional university rankings'.\"]\n",
      "system_mqm_Minus_gold_mqm: 3\n",
      "\n",
      "Segment ind: 64\n",
      "source                                                           使用产品前请仔细阅读本说明书，并妥善保管。\n",
      "target    Please read this manual carefully before using the product and keep it safe.\n",
      "Name: 64, dtype: object\n",
      "Error 0\n",
      "['accuracy', 'minor', 'this', {'start': 2, 'end': 2}, \"The word 'this' should ideally be 'this manual' to precisely reflect '本说明书'.\"]\n",
      "Error 1\n",
      "['fluency', 'minor', 'the product', {'start': 7, 'end': 8}, \"The phrase 'the product' is correct but could be more fluently written as 'your product' for better readability.\"]\n",
      "Error 2\n",
      "['style', 'minor', 'safe', {'start': 12, 'end': 12}, \"The word 'safe' sounds a bit awkward here; 'in a safe place' would be a more idiomatic English expression.\"]\n",
      "system_mqm_Minus_gold_mqm: 3\n",
      "\n",
      "Segment ind: 97\n",
      "source                                                                                            近日，知名健身机构中健健身会员维权问题引起社会关注。\n",
      "target    Recently, the issue of fitness members' rights in well-known fitness organizations has attracted social attention.\n",
      "Name: 97, dtype: object\n",
      "Error 0\n",
      "['terminology', 'minor', 'fitness', {'start': 11, 'end': 11}, \"The term 'fitness members' should be 'members' rights' to precisely convey the idea of the rights belonging to members.\"]\n",
      "Error 1\n",
      "['terminology', 'minor', 'organizations', {'start': 12, 'end': 12}, \"'Organizations' should be corrected to 'organization' to reflect the singular form '中健健身'.\"]\n",
      "Error 2\n",
      "['style', 'minor', \"members'\", {'start': 6, 'end': 7}, \"The phrase 'fitness members' rights' is somewhat awkward and can be stylistically improved by rephrasing to 'members' rights in a well-known fitness organization'.\"]\n",
      "system_mqm_Minus_gold_mqm: 3\n",
      "\n",
      "Segment ind: 18\n",
      "source               防骗提示：\n",
      "target    Anti-fraud tips:\n",
      "Name: 18, dtype: object\n",
      "Error 0\n",
      "['locale convention', 'minor', 'Anti-fraud tips:', {'start': 0, 'end': 2}, \"In English, it's more common to just say 'Fraud Prevention Tips'.\"]\n",
      "system_mqm_Minus_gold_mqm: 1\n",
      "\n",
      "Segment ind: 21\n",
      "source                                                许多合作文件在此次访问期间得到了签署。\n",
      "target    A number of cooperation documents were signed during the visit.\n",
      "Name: 21, dtype: object\n",
      "Error 0\n",
      "['accuracy', 'minor', 'the visit', {'start': 8, 'end': 9}, \"The source sentence specifies '此次访问' which means 'this visit,' not just 'the visit.'\"]\n",
      "system_mqm_Minus_gold_mqm: 1\n",
      "\n",
      "Segment ind: 1\n",
      "source                 不过笔没问题。\n",
      "target    But the pen is fine.\n",
      "Name: 1, dtype: object\n",
      "Error 0\n",
      "['fluency', 'minor', 'But', {'start': 0, 'end': 0}, \"The use of 'But' at the beginning of the sentence seems awkward without prior context. A more natural translation might avoid 'But' and start with 'The pen is fine.'\"]\n",
      "system_mqm_Minus_gold_mqm: 1\n",
      "\n"
     ]
    }
   ],
   "source": [
    "for ind, r in df.head(100).sort_values(by = 'system_mqm_Minus_gold_mqm', ascending=False).iterrows():\n",
    "    if len(r['parse_gold_error_list']) == 0 and len(r['2_parse_output_error_list']) != 0 :\n",
    "        print('Segment ind:', ind)\n",
    "        print(r[['source','target']])\n",
    "        for iind, e in enumerate(r['2_parse_output_error_list']):\n",
    "            print('Error ' + str(iind))\n",
    "            print(e)\n",
    "        print('system_mqm_Minus_gold_mqm:',r['system_mqm_Minus_gold_mqm'])\n",
    "        print()"
   ]
  }
 ],
 "metadata": {
  "kernelspec": {
   "display_name": "py_thesis",
   "language": "python",
   "name": "python3"
  },
  "language_info": {
   "codemirror_mode": {
    "name": "ipython",
    "version": 3
   },
   "file_extension": ".py",
   "mimetype": "text/x-python",
   "name": "python",
   "nbconvert_exporter": "python",
   "pygments_lexer": "ipython3",
   "version": "3.9.18"
  }
 },
 "nbformat": 4,
 "nbformat_minor": 2
}
